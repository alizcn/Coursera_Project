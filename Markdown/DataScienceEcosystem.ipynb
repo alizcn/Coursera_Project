{
 "cells": [
  {
   "cell_type": "markdown",
   "id": "ccccb0a6-dcb9-4496-a281-f631cbcef502",
   "metadata": {},
   "source": [
    "# Data Science Tools and EcosystemIn this notebook, Data Science Tools and Ecosystem are summarized."
   ]
  },
  {
   "cell_type": "markdown",
   "id": "2e59dc59-5d0a-4e4b-8896-2c20be22e506",
   "metadata": {},
   "source": [
    "In this notebook, Data Science Tools and Ecosystem are summarized."
   ]
  },
  {
   "cell_type": "markdown",
   "id": "5c38dd53-840f-46a7-babb-96b3e00156c3",
   "metadata": {},
   "source": [
    "Some of the popular languages that Data Scientists use are:\n",
    "- Python\n",
    "- R\n",
    "- C/C++"
   ]
  },
  {
   "cell_type": "markdown",
   "id": "b5b6a935-a838-40b2-a641-e54c61d711a4",
   "metadata": {},
   "source": [
    "Some of the commonly used libraries used by Data Scientists include:\n",
    "- Pandas\n",
    "- Numpy\n",
    "- Scikit-Learn"
   ]
  },
  {
   "cell_type": "markdown",
   "id": "16447637-68b0-4356-ad45-f5853e55bd48",
   "metadata": {},
   "source": [
    "### Below are a few examples of evaluating arithmetic expressions in Python"
   ]
  },
  {
   "cell_type": "code",
   "execution_count": 5,
   "id": "87321fc7-5d1f-41f5-9590-8c7f12e71d5d",
   "metadata": {
    "tags": []
   },
   "outputs": [
    {
     "data": {
      "text/plain": [
       "17"
      ]
     },
     "execution_count": 5,
     "metadata": {},
     "output_type": "execute_result"
    }
   ],
   "source": [
    "# This a simple arithmetic expression to mutiply then add integers\n",
    "(3*4)+5"
   ]
  },
  {
   "cell_type": "code",
   "execution_count": 6,
   "id": "2fc05bd3-af12-4260-ab4c-d9a858788866",
   "metadata": {
    "tags": []
   },
   "outputs": [
    {
     "data": {
      "text/plain": [
       "3.3333333333333335"
      ]
     },
     "execution_count": 6,
     "metadata": {},
     "output_type": "execute_result"
    }
   ],
   "source": [
    "#This will convert 200 minutes to hours by diving by 60\n",
    "200/60"
   ]
  },
  {
   "cell_type": "markdown",
   "id": "5f7591f9-83ef-43fb-ba92-2b2187fa88eb",
   "metadata": {
    "tags": []
   },
   "source": [
    "# Author\n",
    "## Ali"
   ]
  },
  {
   "cell_type": "code",
   "execution_count": null,
   "id": "505f902a-389f-4f0c-8ab9-42d734c30309",
   "metadata": {},
   "outputs": [],
   "source": []
  }
 ],
 "metadata": {
  "kernelspec": {
   "display_name": "Python",
   "language": "python",
   "name": "conda-env-python-py"
  },
  "language_info": {
   "codemirror_mode": {
    "name": "ipython",
    "version": 3
   },
   "file_extension": ".py",
   "mimetype": "text/x-python",
   "name": "python",
   "nbconvert_exporter": "python",
   "pygments_lexer": "ipython3",
   "version": "3.7.12"
  }
 },
 "nbformat": 4,
 "nbformat_minor": 5
}
